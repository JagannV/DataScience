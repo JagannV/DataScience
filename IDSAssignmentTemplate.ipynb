{
 "cells": [
  {
   "cell_type": "markdown",
   "id": "9bda93ba",
   "metadata": {
    "id": "9bda93ba"
   },
   "source": [
    "# <center>        **Introduction to Data Science (S1-22_DSECLZG532)-ASSIGNMENT**</center>\n",
    "\n",
    "## Group No\n",
    "\n",
    "## Group Member Names:\n",
    "1. \n",
    "2.\n",
    "3.\n",
    "4."
   ]
  },
  {
   "cell_type": "markdown",
   "id": "f5d80c60",
   "metadata": {
    "id": "f5d80c60"
   },
   "source": [
    "# 1. Business Understanding\n",
    " \n",
    "Students are expected to identify a classification problem of your choice. You have to detail the Business Understanding part of your problem under this heading which basically addresses the following questions.\n",
    " \n",
    "   1. What is the business problem that you are trying to solve?\n",
    "   2. What data do you need to answer the above problem?\n",
    "   3. What are the different sources of data?    \n",
    "   4. What kind of analytics task are you performing?\n",
    "\n",
    "Score: 1 Mark in total (0.25 mark each)"
   ]
  },
  {
   "cell_type": "raw",
   "id": "3298e121",
   "metadata": {
    "id": "3298e121"
   },
   "source": [
    "--------------Type the answers below this line-------------- "
   ]
  },
  {
   "cell_type": "code",
   "execution_count": 1,
   "id": "02afcd84",
   "metadata": {},
   "outputs": [],
   "source": [
    "# import necessary modules\n",
    "import pandas as pd\n",
    "import numpy as np\n",
    "import matplotlib.pyplot as plt\n",
    "import seaborn as sns\n",
    "from scipy import stats\n",
    "from warnings import filterwarnings\n",
    "filterwarnings('ignore')"
   ]
  },
  {
   "cell_type": "markdown",
   "id": "3cc8e0cb",
   "metadata": {
    "id": "3cc8e0cb"
   },
   "source": [
    "# 2. Data Acquisition\n",
    " \n",
    "For the problem identified , find an appropriate data set (Your data set must \n",
    "be unique) from any public data source.\n",
    "\n",
    "---\n",
    "\n",
    "\n",
    "\n",
    "## 2.1 Download the data directly\n",
    "\n"
   ]
  },
  {
   "cell_type": "code",
   "execution_count": 2,
   "id": "4b51d895",
   "metadata": {
    "id": "4b51d895",
    "scrolled": true
   },
   "outputs": [],
   "source": [
    "##---------Type the code below this line------------------##\n",
    "student_dataSet = pd.read_excel('UnivData1.xlsx')\n",
    "\n",
    "student_dataSet_old = pd.read_excel('UnivData1.xlsx')"
   ]
  },
  {
   "cell_type": "markdown",
   "id": "49530d0c",
   "metadata": {
    "id": "49530d0c"
   },
   "source": [
    "## 2.2 Code for converting the above downloaded data into a dataframe"
   ]
  },
  {
   "cell_type": "code",
   "execution_count": 4,
   "id": "c1f4c171",
   "metadata": {
    "id": "c1f4c171"
   },
   "outputs": [
    {
     "data": {
      "text/plain": [
       "pandas.core.frame.DataFrame"
      ]
     },
     "execution_count": 4,
     "metadata": {},
     "output_type": "execute_result"
    }
   ],
   "source": [
    "##---------Type the code below this line------------------##\n",
    "# loaded the data set directly into the dataframe in the above cell.\n",
    "type(student_dataSet)"
   ]
  },
  {
   "cell_type": "markdown",
   "id": "7b1fea4d",
   "metadata": {
    "id": "7b1fea4d"
   },
   "source": [
    "## 2.3 Confirm the data has been correctly by displaying the first 5 and last 5 records."
   ]
  },
  {
   "cell_type": "code",
   "execution_count": 5,
   "id": "624e6c58",
   "metadata": {
    "id": "624e6c58",
    "scrolled": true
   },
   "outputs": [
    {
     "data": {
      "text/plain": [
       "'TOP 5 RECORDS ===:'"
      ]
     },
     "metadata": {},
     "output_type": "display_data"
    },
    {
     "data": {
      "text/html": [
       "<div>\n",
       "<style scoped>\n",
       "    .dataframe tbody tr th:only-of-type {\n",
       "        vertical-align: middle;\n",
       "    }\n",
       "\n",
       "    .dataframe tbody tr th {\n",
       "        vertical-align: top;\n",
       "    }\n",
       "\n",
       "    .dataframe thead th {\n",
       "        text-align: right;\n",
       "    }\n",
       "</style>\n",
       "<table border=\"1\" class=\"dataframe\">\n",
       "  <thead>\n",
       "    <tr style=\"text-align: right;\">\n",
       "      <th></th>\n",
       "      <th>STUDENT IDENTIFIER</th>\n",
       "      <th>STDNT_AGE</th>\n",
       "      <th>STDNT_GENDER</th>\n",
       "      <th>STDNT_BACKGROUND</th>\n",
       "      <th>IN_STATE_FLAG</th>\n",
       "      <th>INTERNATIONAL_STS</th>\n",
       "      <th>STDNT_MAJOR</th>\n",
       "      <th>STDNT_MINOR</th>\n",
       "      <th>STDNT_TEST_ENTRANCE1</th>\n",
       "      <th>STDNT_TEST_ENTRANCE2</th>\n",
       "      <th>...</th>\n",
       "      <th>DEGREE_GROUP_CD</th>\n",
       "      <th>DEGREE_GROUP_DESC</th>\n",
       "      <th>FIRST_TERM_ATTEMPT_HRS</th>\n",
       "      <th>FIRST_TERM_EARNED_HRS</th>\n",
       "      <th>SECOND_TERM_ATTEMPT_HRS</th>\n",
       "      <th>SECOND_TERM_EARNED_HRS</th>\n",
       "      <th>GROSS_FIN_NEED</th>\n",
       "      <th>COST_OF_ATTEND</th>\n",
       "      <th>EST_FAM_CONTRIBUTION</th>\n",
       "      <th>UNMET_NEED</th>\n",
       "    </tr>\n",
       "  </thead>\n",
       "  <tbody>\n",
       "    <tr>\n",
       "      <th>0</th>\n",
       "      <td>7808615</td>\n",
       "      <td>18</td>\n",
       "      <td>F</td>\n",
       "      <td>BGD 1</td>\n",
       "      <td>Y</td>\n",
       "      <td>N</td>\n",
       "      <td>Undeclared</td>\n",
       "      <td>N</td>\n",
       "      <td>NaN</td>\n",
       "      <td>1150.0</td>\n",
       "      <td>...</td>\n",
       "      <td>B</td>\n",
       "      <td>Bachelors</td>\n",
       "      <td>16</td>\n",
       "      <td>16</td>\n",
       "      <td>14.0</td>\n",
       "      <td>14.0</td>\n",
       "      <td>0</td>\n",
       "      <td>0</td>\n",
       "      <td>0</td>\n",
       "      <td>0.0</td>\n",
       "    </tr>\n",
       "    <tr>\n",
       "      <th>1</th>\n",
       "      <td>7830063</td>\n",
       "      <td>19</td>\n",
       "      <td>F</td>\n",
       "      <td>BGD 1</td>\n",
       "      <td>N</td>\n",
       "      <td>N</td>\n",
       "      <td>Undeclared</td>\n",
       "      <td>N</td>\n",
       "      <td>26.0</td>\n",
       "      <td>NaN</td>\n",
       "      <td>...</td>\n",
       "      <td>B</td>\n",
       "      <td>Bachelors</td>\n",
       "      <td>18</td>\n",
       "      <td>18</td>\n",
       "      <td>18.0</td>\n",
       "      <td>18.0</td>\n",
       "      <td>570000</td>\n",
       "      <td>1355760</td>\n",
       "      <td>785760</td>\n",
       "      <td>459300.0</td>\n",
       "    </tr>\n",
       "    <tr>\n",
       "      <th>2</th>\n",
       "      <td>7847538</td>\n",
       "      <td>18</td>\n",
       "      <td>M</td>\n",
       "      <td>BGD 1</td>\n",
       "      <td>Y</td>\n",
       "      <td>N</td>\n",
       "      <td>Mathematics</td>\n",
       "      <td>N</td>\n",
       "      <td>NaN</td>\n",
       "      <td>1020.0</td>\n",
       "      <td>...</td>\n",
       "      <td>B</td>\n",
       "      <td>Bachelors</td>\n",
       "      <td>15</td>\n",
       "      <td>15</td>\n",
       "      <td>14.0</td>\n",
       "      <td>14.0</td>\n",
       "      <td>0</td>\n",
       "      <td>0</td>\n",
       "      <td>0</td>\n",
       "      <td>0.0</td>\n",
       "    </tr>\n",
       "    <tr>\n",
       "      <th>3</th>\n",
       "      <td>8006429</td>\n",
       "      <td>18</td>\n",
       "      <td>M</td>\n",
       "      <td>BGD 1</td>\n",
       "      <td>Y</td>\n",
       "      <td>N</td>\n",
       "      <td>Undeclared</td>\n",
       "      <td>N</td>\n",
       "      <td>NaN</td>\n",
       "      <td>1210.0</td>\n",
       "      <td>...</td>\n",
       "      <td>B</td>\n",
       "      <td>Bachelors</td>\n",
       "      <td>13</td>\n",
       "      <td>13</td>\n",
       "      <td>14.0</td>\n",
       "      <td>14.0</td>\n",
       "      <td>0</td>\n",
       "      <td>0</td>\n",
       "      <td>0</td>\n",
       "      <td>0.0</td>\n",
       "    </tr>\n",
       "    <tr>\n",
       "      <th>4</th>\n",
       "      <td>7962680</td>\n",
       "      <td>18</td>\n",
       "      <td>F</td>\n",
       "      <td>BGD 1</td>\n",
       "      <td>Y</td>\n",
       "      <td>N</td>\n",
       "      <td>Art</td>\n",
       "      <td>N</td>\n",
       "      <td>NaN</td>\n",
       "      <td>1200.0</td>\n",
       "      <td>...</td>\n",
       "      <td>B</td>\n",
       "      <td>Bachelors</td>\n",
       "      <td>12</td>\n",
       "      <td>12</td>\n",
       "      <td>12.0</td>\n",
       "      <td>12.0</td>\n",
       "      <td>835920</td>\n",
       "      <td>1355760</td>\n",
       "      <td>519840</td>\n",
       "      <td>278340.0</td>\n",
       "    </tr>\n",
       "  </tbody>\n",
       "</table>\n",
       "<p>5 rows × 56 columns</p>\n",
       "</div>"
      ],
      "text/plain": [
       "   STUDENT IDENTIFIER  STDNT_AGE STDNT_GENDER STDNT_BACKGROUND IN_STATE_FLAG  \\\n",
       "0             7808615         18            F            BGD 1             Y   \n",
       "1             7830063         19            F            BGD 1             N   \n",
       "2             7847538         18            M            BGD 1             Y   \n",
       "3             8006429         18            M            BGD 1             Y   \n",
       "4             7962680         18            F            BGD 1             Y   \n",
       "\n",
       "  INTERNATIONAL_STS  STDNT_MAJOR STDNT_MINOR  STDNT_TEST_ENTRANCE1  \\\n",
       "0                 N   Undeclared           N                   NaN   \n",
       "1                 N   Undeclared           N                  26.0   \n",
       "2                 N  Mathematics           N                   NaN   \n",
       "3                 N   Undeclared           N                   NaN   \n",
       "4                 N          Art           N                   NaN   \n",
       "\n",
       "   STDNT_TEST_ENTRANCE2  ...  DEGREE_GROUP_CD  DEGREE_GROUP_DESC  \\\n",
       "0                1150.0  ...                B          Bachelors   \n",
       "1                   NaN  ...                B          Bachelors   \n",
       "2                1020.0  ...                B          Bachelors   \n",
       "3                1210.0  ...                B          Bachelors   \n",
       "4                1200.0  ...                B          Bachelors   \n",
       "\n",
       "  FIRST_TERM_ATTEMPT_HRS FIRST_TERM_EARNED_HRS SECOND_TERM_ATTEMPT_HRS  \\\n",
       "0                     16                    16                    14.0   \n",
       "1                     18                    18                    18.0   \n",
       "2                     15                    15                    14.0   \n",
       "3                     13                    13                    14.0   \n",
       "4                     12                    12                    12.0   \n",
       "\n",
       "  SECOND_TERM_EARNED_HRS GROSS_FIN_NEED COST_OF_ATTEND EST_FAM_CONTRIBUTION  \\\n",
       "0                   14.0              0              0                    0   \n",
       "1                   18.0         570000        1355760               785760   \n",
       "2                   14.0              0              0                    0   \n",
       "3                   14.0              0              0                    0   \n",
       "4                   12.0         835920        1355760               519840   \n",
       "\n",
       "  UNMET_NEED  \n",
       "0        0.0  \n",
       "1   459300.0  \n",
       "2        0.0  \n",
       "3        0.0  \n",
       "4   278340.0  \n",
       "\n",
       "[5 rows x 56 columns]"
      ]
     },
     "metadata": {},
     "output_type": "display_data"
    },
    {
     "data": {
      "text/plain": [
       "'LAST 5 RECORDS ===: '"
      ]
     },
     "metadata": {},
     "output_type": "display_data"
    },
    {
     "data": {
      "text/html": [
       "<div>\n",
       "<style scoped>\n",
       "    .dataframe tbody tr th:only-of-type {\n",
       "        vertical-align: middle;\n",
       "    }\n",
       "\n",
       "    .dataframe tbody tr th {\n",
       "        vertical-align: top;\n",
       "    }\n",
       "\n",
       "    .dataframe thead th {\n",
       "        text-align: right;\n",
       "    }\n",
       "</style>\n",
       "<table border=\"1\" class=\"dataframe\">\n",
       "  <thead>\n",
       "    <tr style=\"text-align: right;\">\n",
       "      <th></th>\n",
       "      <th>STUDENT IDENTIFIER</th>\n",
       "      <th>STDNT_AGE</th>\n",
       "      <th>STDNT_GENDER</th>\n",
       "      <th>STDNT_BACKGROUND</th>\n",
       "      <th>IN_STATE_FLAG</th>\n",
       "      <th>INTERNATIONAL_STS</th>\n",
       "      <th>STDNT_MAJOR</th>\n",
       "      <th>STDNT_MINOR</th>\n",
       "      <th>STDNT_TEST_ENTRANCE1</th>\n",
       "      <th>STDNT_TEST_ENTRANCE2</th>\n",
       "      <th>...</th>\n",
       "      <th>DEGREE_GROUP_CD</th>\n",
       "      <th>DEGREE_GROUP_DESC</th>\n",
       "      <th>FIRST_TERM_ATTEMPT_HRS</th>\n",
       "      <th>FIRST_TERM_EARNED_HRS</th>\n",
       "      <th>SECOND_TERM_ATTEMPT_HRS</th>\n",
       "      <th>SECOND_TERM_EARNED_HRS</th>\n",
       "      <th>GROSS_FIN_NEED</th>\n",
       "      <th>COST_OF_ATTEND</th>\n",
       "      <th>EST_FAM_CONTRIBUTION</th>\n",
       "      <th>UNMET_NEED</th>\n",
       "    </tr>\n",
       "  </thead>\n",
       "  <tbody>\n",
       "    <tr>\n",
       "      <th>3395</th>\n",
       "      <td>7948112</td>\n",
       "      <td>18</td>\n",
       "      <td>F</td>\n",
       "      <td>BGD 4</td>\n",
       "      <td>N</td>\n",
       "      <td>N</td>\n",
       "      <td>Music Performance</td>\n",
       "      <td>N</td>\n",
       "      <td>NaN</td>\n",
       "      <td>800.0</td>\n",
       "      <td>...</td>\n",
       "      <td>B</td>\n",
       "      <td>Bachelors</td>\n",
       "      <td>18</td>\n",
       "      <td>18</td>\n",
       "      <td>16.0</td>\n",
       "      <td>13.0</td>\n",
       "      <td>0</td>\n",
       "      <td>0</td>\n",
       "      <td>0</td>\n",
       "      <td>0.0</td>\n",
       "    </tr>\n",
       "    <tr>\n",
       "      <th>3396</th>\n",
       "      <td>8023055</td>\n",
       "      <td>18</td>\n",
       "      <td>F</td>\n",
       "      <td>BGD 1</td>\n",
       "      <td>Y</td>\n",
       "      <td>N</td>\n",
       "      <td>Biology</td>\n",
       "      <td>N</td>\n",
       "      <td>20.0</td>\n",
       "      <td>NaN</td>\n",
       "      <td>...</td>\n",
       "      <td>B</td>\n",
       "      <td>Bachelors</td>\n",
       "      <td>13</td>\n",
       "      <td>9</td>\n",
       "      <td>NaN</td>\n",
       "      <td>NaN</td>\n",
       "      <td>0</td>\n",
       "      <td>0</td>\n",
       "      <td>0</td>\n",
       "      <td>0.0</td>\n",
       "    </tr>\n",
       "    <tr>\n",
       "      <th>3397</th>\n",
       "      <td>7926915</td>\n",
       "      <td>18</td>\n",
       "      <td>F</td>\n",
       "      <td>BGD 4</td>\n",
       "      <td>Y</td>\n",
       "      <td>N</td>\n",
       "      <td>Biology</td>\n",
       "      <td>N</td>\n",
       "      <td>NaN</td>\n",
       "      <td>1020.0</td>\n",
       "      <td>...</td>\n",
       "      <td>B</td>\n",
       "      <td>Bachelors</td>\n",
       "      <td>14</td>\n",
       "      <td>6</td>\n",
       "      <td>NaN</td>\n",
       "      <td>NaN</td>\n",
       "      <td>0</td>\n",
       "      <td>945840</td>\n",
       "      <td>1288980</td>\n",
       "      <td>0.0</td>\n",
       "    </tr>\n",
       "    <tr>\n",
       "      <th>3398</th>\n",
       "      <td>7877332</td>\n",
       "      <td>18</td>\n",
       "      <td>F</td>\n",
       "      <td>BGD 3</td>\n",
       "      <td>Y</td>\n",
       "      <td>N</td>\n",
       "      <td>Joint Enrollment - Accel</td>\n",
       "      <td>N</td>\n",
       "      <td>21.0</td>\n",
       "      <td>NaN</td>\n",
       "      <td>...</td>\n",
       "      <td>B</td>\n",
       "      <td>Bachelors</td>\n",
       "      <td>12</td>\n",
       "      <td>9</td>\n",
       "      <td>NaN</td>\n",
       "      <td>NaN</td>\n",
       "      <td>0</td>\n",
       "      <td>269100</td>\n",
       "      <td>0</td>\n",
       "      <td>-231720.0</td>\n",
       "    </tr>\n",
       "    <tr>\n",
       "      <th>3399</th>\n",
       "      <td>7928405</td>\n",
       "      <td>18</td>\n",
       "      <td>M</td>\n",
       "      <td>BGD 2</td>\n",
       "      <td>Y</td>\n",
       "      <td>N</td>\n",
       "      <td>Art</td>\n",
       "      <td>Creative Writing</td>\n",
       "      <td>NaN</td>\n",
       "      <td>890.0</td>\n",
       "      <td>...</td>\n",
       "      <td>B</td>\n",
       "      <td>Bachelors</td>\n",
       "      <td>12</td>\n",
       "      <td>9</td>\n",
       "      <td>13.0</td>\n",
       "      <td>6.0</td>\n",
       "      <td>0</td>\n",
       "      <td>0</td>\n",
       "      <td>0</td>\n",
       "      <td>0.0</td>\n",
       "    </tr>\n",
       "  </tbody>\n",
       "</table>\n",
       "<p>5 rows × 56 columns</p>\n",
       "</div>"
      ],
      "text/plain": [
       "      STUDENT IDENTIFIER  STDNT_AGE STDNT_GENDER STDNT_BACKGROUND  \\\n",
       "3395             7948112         18            F            BGD 4   \n",
       "3396             8023055         18            F            BGD 1   \n",
       "3397             7926915         18            F            BGD 4   \n",
       "3398             7877332         18            F            BGD 3   \n",
       "3399             7928405         18            M            BGD 2   \n",
       "\n",
       "     IN_STATE_FLAG INTERNATIONAL_STS               STDNT_MAJOR  \\\n",
       "3395             N                 N         Music Performance   \n",
       "3396             Y                 N                   Biology   \n",
       "3397             Y                 N                   Biology   \n",
       "3398             Y                 N  Joint Enrollment - Accel   \n",
       "3399             Y                 N                       Art   \n",
       "\n",
       "           STDNT_MINOR  STDNT_TEST_ENTRANCE1  STDNT_TEST_ENTRANCE2  ...  \\\n",
       "3395                 N                   NaN                 800.0  ...   \n",
       "3396                 N                  20.0                   NaN  ...   \n",
       "3397                 N                   NaN                1020.0  ...   \n",
       "3398                 N                  21.0                   NaN  ...   \n",
       "3399  Creative Writing                   NaN                 890.0  ...   \n",
       "\n",
       "      DEGREE_GROUP_CD  DEGREE_GROUP_DESC FIRST_TERM_ATTEMPT_HRS  \\\n",
       "3395                B          Bachelors                     18   \n",
       "3396                B          Bachelors                     13   \n",
       "3397                B          Bachelors                     14   \n",
       "3398                B          Bachelors                     12   \n",
       "3399                B          Bachelors                     12   \n",
       "\n",
       "     FIRST_TERM_EARNED_HRS SECOND_TERM_ATTEMPT_HRS SECOND_TERM_EARNED_HRS  \\\n",
       "3395                    18                    16.0                   13.0   \n",
       "3396                     9                     NaN                    NaN   \n",
       "3397                     6                     NaN                    NaN   \n",
       "3398                     9                     NaN                    NaN   \n",
       "3399                     9                    13.0                    6.0   \n",
       "\n",
       "     GROSS_FIN_NEED COST_OF_ATTEND EST_FAM_CONTRIBUTION UNMET_NEED  \n",
       "3395              0              0                    0        0.0  \n",
       "3396              0              0                    0        0.0  \n",
       "3397              0         945840              1288980        0.0  \n",
       "3398              0         269100                    0  -231720.0  \n",
       "3399              0              0                    0        0.0  \n",
       "\n",
       "[5 rows x 56 columns]"
      ]
     },
     "metadata": {},
     "output_type": "display_data"
    }
   ],
   "source": [
    "##---------Type the code below this line------------------##\n",
    "\n",
    "#First 5 records\n",
    "display(\"TOP 5 RECORDS ===:\")\n",
    "display(student_dataSet_old.head(5))\n",
    "\n",
    "#Last 5 records\n",
    "display(\"LAST 5 RECORDS ===: \")\n",
    "display(student_dataSet_old.tail(5))"
   ]
  },
  {
   "cell_type": "markdown",
   "id": "bb84fc56",
   "metadata": {
    "id": "bb84fc56"
   },
   "source": [
    "## 2.4 Display the column headings, statistical information, description and statistical summary of the data."
   ]
  },
  {
   "cell_type": "code",
   "execution_count": 6,
   "id": "086ad28e",
   "metadata": {
    "id": "086ad28e",
    "scrolled": true
   },
   "outputs": [
    {
     "data": {
      "text/html": [
       "<div>\n",
       "<style scoped>\n",
       "    .dataframe tbody tr th:only-of-type {\n",
       "        vertical-align: middle;\n",
       "    }\n",
       "\n",
       "    .dataframe tbody tr th {\n",
       "        vertical-align: top;\n",
       "    }\n",
       "\n",
       "    .dataframe thead th {\n",
       "        text-align: right;\n",
       "    }\n",
       "</style>\n",
       "<table border=\"1\" class=\"dataframe\">\n",
       "  <thead>\n",
       "    <tr style=\"text-align: right;\">\n",
       "      <th></th>\n",
       "      <th>STUDENT IDENTIFIER</th>\n",
       "      <th>STDNT_AGE</th>\n",
       "      <th>STDNT_TEST_ENTRANCE1</th>\n",
       "      <th>STDNT_TEST_ENTRANCE2</th>\n",
       "      <th>STDNT_TEST_ENTRANCE_COMB</th>\n",
       "      <th>FIRST_TERM</th>\n",
       "      <th>SECOND_TERM</th>\n",
       "      <th>RETURNED_2ND_YR</th>\n",
       "      <th>DISTANCE_FROM_HOME</th>\n",
       "      <th>HIGH_SCHL_GPA</th>\n",
       "      <th>FATHER_HI_EDU_CD</th>\n",
       "      <th>MOTHER_HI_EDU_CD</th>\n",
       "      <th>FIRST_TERM_ATTEMPT_HRS</th>\n",
       "      <th>FIRST_TERM_EARNED_HRS</th>\n",
       "      <th>SECOND_TERM_ATTEMPT_HRS</th>\n",
       "      <th>SECOND_TERM_EARNED_HRS</th>\n",
       "      <th>GROSS_FIN_NEED</th>\n",
       "      <th>COST_OF_ATTEND</th>\n",
       "      <th>EST_FAM_CONTRIBUTION</th>\n",
       "      <th>UNMET_NEED</th>\n",
       "    </tr>\n",
       "  </thead>\n",
       "  <tbody>\n",
       "    <tr>\n",
       "      <th>count</th>\n",
       "      <td>3.400000e+03</td>\n",
       "      <td>3400.000000</td>\n",
       "      <td>1106.000000</td>\n",
       "      <td>2492.000000</td>\n",
       "      <td>2882.000000</td>\n",
       "      <td>3400.000000</td>\n",
       "      <td>3400.000000</td>\n",
       "      <td>3400.000000</td>\n",
       "      <td>3375.000000</td>\n",
       "      <td>3347.000000</td>\n",
       "      <td>2968.000000</td>\n",
       "      <td>2911.000000</td>\n",
       "      <td>3400.000000</td>\n",
       "      <td>3400.000000</td>\n",
       "      <td>3194.000000</td>\n",
       "      <td>3191.000000</td>\n",
       "      <td>3.400000e+03</td>\n",
       "      <td>3.400000e+03</td>\n",
       "      <td>3.400000e+03</td>\n",
       "      <td>3.400000e+03</td>\n",
       "    </tr>\n",
       "    <tr>\n",
       "      <th>mean</th>\n",
       "      <td>7.897155e+06</td>\n",
       "      <td>17.994118</td>\n",
       "      <td>20.660036</td>\n",
       "      <td>965.092295</td>\n",
       "      <td>997.758501</td>\n",
       "      <td>200777.000000</td>\n",
       "      <td>200871.000000</td>\n",
       "      <td>0.787353</td>\n",
       "      <td>99.825185</td>\n",
       "      <td>3.202738</td>\n",
       "      <td>2.560647</td>\n",
       "      <td>2.571281</td>\n",
       "      <td>13.985882</td>\n",
       "      <td>12.205000</td>\n",
       "      <td>14.285848</td>\n",
       "      <td>12.511125</td>\n",
       "      <td>3.034025e+05</td>\n",
       "      <td>5.515335e+05</td>\n",
       "      <td>3.446899e+05</td>\n",
       "      <td>7.222052e+04</td>\n",
       "    </tr>\n",
       "    <tr>\n",
       "      <th>std</th>\n",
       "      <td>8.083421e+04</td>\n",
       "      <td>0.552052</td>\n",
       "      <td>3.234734</td>\n",
       "      <td>209.088633</td>\n",
       "      <td>156.268221</td>\n",
       "      <td>170.001298</td>\n",
       "      <td>170.001298</td>\n",
       "      <td>0.409240</td>\n",
       "      <td>235.196984</td>\n",
       "      <td>0.455337</td>\n",
       "      <td>0.681273</td>\n",
       "      <td>0.611729</td>\n",
       "      <td>1.554286</td>\n",
       "      <td>2.986294</td>\n",
       "      <td>2.104387</td>\n",
       "      <td>3.470492</td>\n",
       "      <td>4.836255e+05</td>\n",
       "      <td>6.064403e+05</td>\n",
       "      <td>7.871878e+05</td>\n",
       "      <td>2.795679e+05</td>\n",
       "    </tr>\n",
       "    <tr>\n",
       "      <th>min</th>\n",
       "      <td>7.755837e+06</td>\n",
       "      <td>16.000000</td>\n",
       "      <td>8.000000</td>\n",
       "      <td>350.000000</td>\n",
       "      <td>530.000000</td>\n",
       "      <td>200508.000000</td>\n",
       "      <td>200602.000000</td>\n",
       "      <td>0.000000</td>\n",
       "      <td>0.000000</td>\n",
       "      <td>0.000000</td>\n",
       "      <td>1.000000</td>\n",
       "      <td>1.000000</td>\n",
       "      <td>9.000000</td>\n",
       "      <td>0.000000</td>\n",
       "      <td>2.000000</td>\n",
       "      <td>0.000000</td>\n",
       "      <td>0.000000e+00</td>\n",
       "      <td>0.000000e+00</td>\n",
       "      <td>0.000000e+00</td>\n",
       "      <td>-1.212072e+06</td>\n",
       "    </tr>\n",
       "    <tr>\n",
       "      <th>25%</th>\n",
       "      <td>7.827039e+06</td>\n",
       "      <td>18.000000</td>\n",
       "      <td>18.000000</td>\n",
       "      <td>900.000000</td>\n",
       "      <td>910.000000</td>\n",
       "      <td>200608.000000</td>\n",
       "      <td>200702.000000</td>\n",
       "      <td>1.000000</td>\n",
       "      <td>69.000000</td>\n",
       "      <td>2.870000</td>\n",
       "      <td>2.000000</td>\n",
       "      <td>2.000000</td>\n",
       "      <td>13.000000</td>\n",
       "      <td>11.000000</td>\n",
       "      <td>13.000000</td>\n",
       "      <td>11.000000</td>\n",
       "      <td>0.000000e+00</td>\n",
       "      <td>0.000000e+00</td>\n",
       "      <td>0.000000e+00</td>\n",
       "      <td>0.000000e+00</td>\n",
       "    </tr>\n",
       "    <tr>\n",
       "      <th>50%</th>\n",
       "      <td>7.899052e+06</td>\n",
       "      <td>18.000000</td>\n",
       "      <td>20.000000</td>\n",
       "      <td>990.000000</td>\n",
       "      <td>990.000000</td>\n",
       "      <td>200808.000000</td>\n",
       "      <td>200902.000000</td>\n",
       "      <td>1.000000</td>\n",
       "      <td>69.000000</td>\n",
       "      <td>3.200000</td>\n",
       "      <td>3.000000</td>\n",
       "      <td>3.000000</td>\n",
       "      <td>14.000000</td>\n",
       "      <td>13.000000</td>\n",
       "      <td>14.000000</td>\n",
       "      <td>13.000000</td>\n",
       "      <td>0.000000e+00</td>\n",
       "      <td>1.505400e+05</td>\n",
       "      <td>0.000000e+00</td>\n",
       "      <td>0.000000e+00</td>\n",
       "    </tr>\n",
       "    <tr>\n",
       "      <th>75%</th>\n",
       "      <td>7.964008e+06</td>\n",
       "      <td>18.000000</td>\n",
       "      <td>22.000000</td>\n",
       "      <td>1100.000000</td>\n",
       "      <td>1110.000000</td>\n",
       "      <td>200908.000000</td>\n",
       "      <td>201002.000000</td>\n",
       "      <td>1.000000</td>\n",
       "      <td>138.000000</td>\n",
       "      <td>3.560000</td>\n",
       "      <td>3.000000</td>\n",
       "      <td>3.000000</td>\n",
       "      <td>15.000000</td>\n",
       "      <td>15.000000</td>\n",
       "      <td>16.000000</td>\n",
       "      <td>15.000000</td>\n",
       "      <td>5.995800e+05</td>\n",
       "      <td>1.192815e+06</td>\n",
       "      <td>3.241800e+05</td>\n",
       "      <td>1.876155e+05</td>\n",
       "    </tr>\n",
       "    <tr>\n",
       "      <th>max</th>\n",
       "      <td>8.037098e+06</td>\n",
       "      <td>26.000000</td>\n",
       "      <td>32.000000</td>\n",
       "      <td>1490.000000</td>\n",
       "      <td>1510.000000</td>\n",
       "      <td>201008.000000</td>\n",
       "      <td>201102.000000</td>\n",
       "      <td>1.000000</td>\n",
       "      <td>5932.000000</td>\n",
       "      <td>4.000000</td>\n",
       "      <td>4.000000</td>\n",
       "      <td>4.000000</td>\n",
       "      <td>21.000000</td>\n",
       "      <td>21.000000</td>\n",
       "      <td>23.000000</td>\n",
       "      <td>23.000000</td>\n",
       "      <td>2.124900e+06</td>\n",
       "      <td>2.124900e+06</td>\n",
       "      <td>5.999940e+06</td>\n",
       "      <td>1.632660e+06</td>\n",
       "    </tr>\n",
       "  </tbody>\n",
       "</table>\n",
       "</div>"
      ],
      "text/plain": [
       "       STUDENT IDENTIFIER    STDNT_AGE  STDNT_TEST_ENTRANCE1  \\\n",
       "count        3.400000e+03  3400.000000           1106.000000   \n",
       "mean         7.897155e+06    17.994118             20.660036   \n",
       "std          8.083421e+04     0.552052              3.234734   \n",
       "min          7.755837e+06    16.000000              8.000000   \n",
       "25%          7.827039e+06    18.000000             18.000000   \n",
       "50%          7.899052e+06    18.000000             20.000000   \n",
       "75%          7.964008e+06    18.000000             22.000000   \n",
       "max          8.037098e+06    26.000000             32.000000   \n",
       "\n",
       "       STDNT_TEST_ENTRANCE2  STDNT_TEST_ENTRANCE_COMB     FIRST_TERM  \\\n",
       "count           2492.000000               2882.000000    3400.000000   \n",
       "mean             965.092295                997.758501  200777.000000   \n",
       "std              209.088633                156.268221     170.001298   \n",
       "min              350.000000                530.000000  200508.000000   \n",
       "25%              900.000000                910.000000  200608.000000   \n",
       "50%              990.000000                990.000000  200808.000000   \n",
       "75%             1100.000000               1110.000000  200908.000000   \n",
       "max             1490.000000               1510.000000  201008.000000   \n",
       "\n",
       "         SECOND_TERM  RETURNED_2ND_YR  DISTANCE_FROM_HOME  HIGH_SCHL_GPA  \\\n",
       "count    3400.000000      3400.000000         3375.000000    3347.000000   \n",
       "mean   200871.000000         0.787353           99.825185       3.202738   \n",
       "std       170.001298         0.409240          235.196984       0.455337   \n",
       "min    200602.000000         0.000000            0.000000       0.000000   \n",
       "25%    200702.000000         1.000000           69.000000       2.870000   \n",
       "50%    200902.000000         1.000000           69.000000       3.200000   \n",
       "75%    201002.000000         1.000000          138.000000       3.560000   \n",
       "max    201102.000000         1.000000         5932.000000       4.000000   \n",
       "\n",
       "       FATHER_HI_EDU_CD  MOTHER_HI_EDU_CD  FIRST_TERM_ATTEMPT_HRS  \\\n",
       "count       2968.000000       2911.000000             3400.000000   \n",
       "mean           2.560647          2.571281               13.985882   \n",
       "std            0.681273          0.611729                1.554286   \n",
       "min            1.000000          1.000000                9.000000   \n",
       "25%            2.000000          2.000000               13.000000   \n",
       "50%            3.000000          3.000000               14.000000   \n",
       "75%            3.000000          3.000000               15.000000   \n",
       "max            4.000000          4.000000               21.000000   \n",
       "\n",
       "       FIRST_TERM_EARNED_HRS  SECOND_TERM_ATTEMPT_HRS  SECOND_TERM_EARNED_HRS  \\\n",
       "count            3400.000000              3194.000000             3191.000000   \n",
       "mean               12.205000                14.285848               12.511125   \n",
       "std                 2.986294                 2.104387                3.470492   \n",
       "min                 0.000000                 2.000000                0.000000   \n",
       "25%                11.000000                13.000000               11.000000   \n",
       "50%                13.000000                14.000000               13.000000   \n",
       "75%                15.000000                16.000000               15.000000   \n",
       "max                21.000000                23.000000               23.000000   \n",
       "\n",
       "       GROSS_FIN_NEED  COST_OF_ATTEND  EST_FAM_CONTRIBUTION    UNMET_NEED  \n",
       "count    3.400000e+03    3.400000e+03          3.400000e+03  3.400000e+03  \n",
       "mean     3.034025e+05    5.515335e+05          3.446899e+05  7.222052e+04  \n",
       "std      4.836255e+05    6.064403e+05          7.871878e+05  2.795679e+05  \n",
       "min      0.000000e+00    0.000000e+00          0.000000e+00 -1.212072e+06  \n",
       "25%      0.000000e+00    0.000000e+00          0.000000e+00  0.000000e+00  \n",
       "50%      0.000000e+00    1.505400e+05          0.000000e+00  0.000000e+00  \n",
       "75%      5.995800e+05    1.192815e+06          3.241800e+05  1.876155e+05  \n",
       "max      2.124900e+06    2.124900e+06          5.999940e+06  1.632660e+06  "
      ]
     },
     "execution_count": 6,
     "metadata": {},
     "output_type": "execute_result"
    }
   ],
   "source": [
    "##---------Type the code below this line------------------##\n",
    "\n",
    "student_dataSet_old.describe()"
   ]
  },
  {
   "cell_type": "markdown",
   "id": "812edb18",
   "metadata": {
    "id": "812edb18"
   },
   "source": [
    "## 2.5 Write your observations from the above. \n",
    "1. Size of the dataset\n",
    "2. What type of data attributes are there?\n",
    "3. Is there any null data that has to be cleaned?\n",
    "\n",
    "Score: 2 Marks in total (0.25 marks for 2.1, 0.25 marks for 2.2, 0.5 marks for 2.3, 0.25 marks for 2.4, 0.75 marks for 2.5)"
   ]
  },
  {
   "cell_type": "code",
   "execution_count": 7,
   "id": "29377c11",
   "metadata": {
    "id": "60d80d2f"
   },
   "outputs": [
    {
     "name": "stdout",
     "output_type": "stream",
     "text": [
      "1. The size of the data set is ==  (3400, 56)\n",
      "2. The data types in the data set are == \n",
      "STUDENT IDENTIFIER            int64\n",
      "STDNT_AGE                     int64\n",
      "STDNT_GENDER                 object\n",
      "STDNT_BACKGROUND             object\n",
      "IN_STATE_FLAG                object\n",
      "INTERNATIONAL_STS            object\n",
      "STDNT_MAJOR                  object\n",
      "STDNT_MINOR                  object\n",
      "STDNT_TEST_ENTRANCE1        float64\n",
      "STDNT_TEST_ENTRANCE2        float64\n",
      "STDNT_TEST_ENTRANCE_COMB    float64\n",
      "FIRST_TERM                    int64\n",
      "CORE_COURSE_NAME_1_F         object\n",
      "CORE_COURSE_GRADE_1_F        object\n",
      "CORE_COURSE_NAME_2_F         object\n",
      "CORE_COURSE_GRADE_2_F        object\n",
      "CORE_COURSE_NAME_3_F         object\n",
      "CORE_COURSE_GRADE_3_F        object\n",
      "CORE_COURSE_NAME_4_F         object\n",
      "CORE_COURSE_GRADE_4_F        object\n",
      "CORE_COURSE_NAME_5_F         object\n",
      "CORE_COURSE_GRADE_5_F        object\n",
      "CORE_COURSE_NAME_6_F         object\n",
      "CORE_COURSE_GRADE_6_F        object\n",
      "SECOND_TERM                   int64\n",
      "CORE_COURSE_NAME_1_S         object\n",
      "CORE_COURSE_GRADE_1_S        object\n",
      "CORE_COURSE_NAME_2_S         object\n",
      "CORE_COURSE_GRADE_2_S        object\n",
      "CORE_COURSE_NAME_3_S         object\n",
      "CORE_COURSE_GRADE_3_S        object\n",
      "CORE_COURSE_NAME_4_S         object\n",
      "CORE_COURSE_GRADE_4_S        object\n",
      "CORE_COURSE_NAME_5_S         object\n",
      "CORE_COURSE_GRADE_5_S        object\n",
      "CORE_COURSE_NAME_6_S         object\n",
      "CORE_COURSE_GRADE_6_S        object\n",
      "HOUSING_STS                  object\n",
      "RETURNED_2ND_YR               int64\n",
      "DISTANCE_FROM_HOME          float64\n",
      "HIGH_SCHL_GPA               float64\n",
      "HIGH_SCHL_NAME               object\n",
      "FATHER_HI_EDU_CD            float64\n",
      "FATHER_HI_EDU_DESC           object\n",
      "MOTHER_HI_EDU_CD            float64\n",
      "MOTHER_HI_EDU_DESC           object\n",
      "DEGREE_GROUP_CD              object\n",
      "DEGREE_GROUP_DESC            object\n",
      "FIRST_TERM_ATTEMPT_HRS        int64\n",
      "FIRST_TERM_EARNED_HRS         int64\n",
      "SECOND_TERM_ATTEMPT_HRS     float64\n",
      "SECOND_TERM_EARNED_HRS      float64\n",
      "GROSS_FIN_NEED                int64\n",
      "COST_OF_ATTEND                int64\n",
      "EST_FAM_CONTRIBUTION          int64\n",
      "UNMET_NEED                  float64\n",
      "dtype: object\n",
      "3. Records with NULL data == \n",
      "Index(['STDNT_TEST_ENTRANCE1', 'STDNT_TEST_ENTRANCE2',\n",
      "       'STDNT_TEST_ENTRANCE_COMB', 'CORE_COURSE_NAME_2_F',\n",
      "       'CORE_COURSE_GRADE_2_F', 'CORE_COURSE_NAME_3_F',\n",
      "       'CORE_COURSE_GRADE_3_F', 'CORE_COURSE_NAME_4_F',\n",
      "       'CORE_COURSE_GRADE_4_F', 'CORE_COURSE_NAME_5_F',\n",
      "       'CORE_COURSE_GRADE_5_F', 'CORE_COURSE_NAME_6_F',\n",
      "       'CORE_COURSE_GRADE_6_F', 'CORE_COURSE_NAME_1_S',\n",
      "       'CORE_COURSE_GRADE_1_S', 'CORE_COURSE_NAME_2_S',\n",
      "       'CORE_COURSE_GRADE_2_S', 'CORE_COURSE_NAME_3_S',\n",
      "       'CORE_COURSE_GRADE_3_S', 'CORE_COURSE_NAME_4_S',\n",
      "       'CORE_COURSE_GRADE_4_S', 'CORE_COURSE_NAME_5_S',\n",
      "       'CORE_COURSE_GRADE_5_S', 'CORE_COURSE_NAME_6_S',\n",
      "       'CORE_COURSE_GRADE_6_S', 'DISTANCE_FROM_HOME', 'HIGH_SCHL_GPA',\n",
      "       'HIGH_SCHL_NAME', 'FATHER_HI_EDU_CD', 'MOTHER_HI_EDU_CD',\n",
      "       'SECOND_TERM_ATTEMPT_HRS', 'SECOND_TERM_EARNED_HRS'],\n",
      "      dtype='object')\n"
     ]
    }
   ],
   "source": [
    "#--------------Type the answers below this line--------------\n",
    "\n",
    "\n",
    "#   1.Size of the data set = 190400 total objects with 3400 rows and 56 attribute s\n",
    "print(\"1. The size of the data set is == \", end=\" \")\n",
    "print(student_dataSet_old.shape)\n",
    "\n",
    "\n",
    "#   2.Datatypes in the data set are : object, int64, float64 \n",
    "print(\"2. The data types in the data set are == \")\n",
    "print(student_dataSet_old.dtypes)\n",
    "\n",
    "# 3.Null data in the data set : yes, we have null data that has to be cleaned\n",
    "print(\"3. Records with NULL data == \")\n",
    "print(student_dataSet_old.columns[student_dataSet.isnull().any()])\n",
    "\n",
    "# List of Attributes which has null data :\n",
    "# ['STDNT_TEST_ENTRANCE1', 'STDNT_TEST_ENTRANCE2',\n",
    "# 'STDNT_TEST_ENTRANCE_COMB', 'CORE_COURSE_NAME_2_F',\n",
    "# 'CORE_COURSE_GRADE_2_F', 'CORE_COURSE_NAME_3_F',\n",
    "# 'CORE_COURSE_GRADE_3_F', 'CORE_COURSE_NAME_4_F',\n",
    "# 'CORE_COURSE_GRADE_4_F', 'CORE_COURSE_NAME_5_F',\n",
    "# 'CORE_COURSE_GRADE_5_F', 'CORE_COURSE_NAME_6_F',\n",
    "# 'CORE_COURSE_GRADE_6_F', 'CORE_COURSE_NAME_1_S',\n",
    "# 'CORE_COURSE_GRADE_1_S', 'CORE_COURSE_NAME_2_S',\n",
    "# 'CORE_COURSE_GRADE_2_S', 'CORE_COURSE_NAME_3_S',\n",
    "# 'CORE_COURSE_GRADE_3_S', 'CORE_COURSE_NAME_4_S',\n",
    "# 'CORE_COURSE_GRADE_4_S', 'CORE_COURSE_NAME_5_S',\n",
    "# 'CORE_COURSE_GRADE_5_S', 'CORE_COURSE_NAME_6_S',\n",
    "# 'CORE_COURSE_GRADE_6_S', 'DISTANCE_FROM_HOME', 'HIGH_SCHL_GPA',\n",
    "# 'HIGH_SCHL_NAME', 'FATHER_HI_EDU_CD', 'MOTHER_HI_EDU_CD',\n",
    "# 'SECOND_TERM_ATTEMPT_HRS', 'SECOND_TERM_EARNED_HRS']\n",
    " \n",
    "\n"
   ]
  },
  {
   "cell_type": "markdown",
   "id": "102e0e36",
   "metadata": {
    "id": "102e0e36"
   },
   "source": [
    "# 3. Data Preparation"
   ]
  },
  {
   "cell_type": "raw",
   "id": "637cb469",
   "metadata": {
    "id": "637cb469"
   },
   "source": [
    "If input data is numerical or categorical, do 3.1, 3.2 and 3.4\n",
    "If input data is text, do 3.3 and 3.4"
   ]
  },
  {
   "cell_type": "markdown",
   "id": "2bcb953b",
   "metadata": {
    "id": "2bcb953b"
   },
   "source": [
    "\n",
    "## 3.1 Check for \n",
    "\n",
    "* duplicate data\n",
    "* missing data\n",
    "* data inconsistencies\n"
   ]
  },
  {
   "cell_type": "code",
   "execution_count": 8,
   "id": "5a5b960e",
   "metadata": {
    "id": "5a5b960e"
   },
   "outputs": [
    {
     "name": "stdout",
     "output_type": "stream",
     "text": [
      "The shape is ==  (0, 56)\n",
      "No Duplicate Data is found\n"
     ]
    }
   ],
   "source": [
    "##---------Type the code below this line------------------##\n",
    "\n",
    "#1.check for Duplicate data\n",
    "duplicateRows = student_dataSet_old[student_dataSet.duplicated()]\n",
    "print(\"The shape is == \",duplicateRows.shape)\n",
    "if duplicateRows.shape[0] == 0:\n",
    "    print(\"No Duplicate Data is found\")\n",
    "\n",
    "#   There are no duplicate rows in the data set and each one is unique object      "
   ]
  },
  {
   "cell_type": "code",
   "execution_count": 9,
   "id": "8345a78a",
   "metadata": {},
   "outputs": [
    {
     "name": "stdout",
     "output_type": "stream",
     "text": [
      "The misisng data columns are ==   \n",
      " Index(['STDNT_TEST_ENTRANCE1', 'STDNT_TEST_ENTRANCE2',\n",
      "       'STDNT_TEST_ENTRANCE_COMB', 'CORE_COURSE_NAME_2_F',\n",
      "       'CORE_COURSE_GRADE_2_F', 'CORE_COURSE_NAME_3_F',\n",
      "       'CORE_COURSE_GRADE_3_F', 'CORE_COURSE_NAME_4_F',\n",
      "       'CORE_COURSE_GRADE_4_F', 'CORE_COURSE_NAME_5_F',\n",
      "       'CORE_COURSE_GRADE_5_F', 'CORE_COURSE_NAME_6_F',\n",
      "       'CORE_COURSE_GRADE_6_F', 'CORE_COURSE_NAME_1_S',\n",
      "       'CORE_COURSE_GRADE_1_S', 'CORE_COURSE_NAME_2_S',\n",
      "       'CORE_COURSE_GRADE_2_S', 'CORE_COURSE_NAME_3_S',\n",
      "       'CORE_COURSE_GRADE_3_S', 'CORE_COURSE_NAME_4_S',\n",
      "       'CORE_COURSE_GRADE_4_S', 'CORE_COURSE_NAME_5_S',\n",
      "       'CORE_COURSE_GRADE_5_S', 'CORE_COURSE_NAME_6_S',\n",
      "       'CORE_COURSE_GRADE_6_S', 'DISTANCE_FROM_HOME', 'HIGH_SCHL_GPA',\n",
      "       'HIGH_SCHL_NAME', 'FATHER_HI_EDU_CD', 'MOTHER_HI_EDU_CD',\n",
      "       'SECOND_TERM_ATTEMPT_HRS', 'SECOND_TERM_EARNED_HRS'],\n",
      "      dtype='object')\n"
     ]
    }
   ],
   "source": [
    "##---------Type the code below this line------------------##\n",
    "\n",
    "#2.Check for missing data\n",
    "\n",
    "print(\"The misisng data columns are ==  \",\"\\n\",student_dataSet_old.columns[student_dataSet.isnull().any()])\n",
    "\n",
    "# this displays the column which has missing data     "
   ]
  },
  {
   "cell_type": "code",
   "execution_count": 10,
   "id": "06e7c0c0",
   "metadata": {},
   "outputs": [
    {
     "data": {
      "text/plain": [
       "2"
      ]
     },
     "execution_count": 10,
     "metadata": {},
     "output_type": "execute_result"
    }
   ],
   "source": [
    "\n",
    "student_dataSet_old['STDNT_GENDER'].nunique()\n",
    "# sort them alphabetically and then take a closer look\n",
    "# incons.sort()\n"
   ]
  },
  {
   "cell_type": "code",
   "execution_count": 11,
   "id": "ab57b163",
   "metadata": {
    "scrolled": false
   },
   "outputs": [
    {
     "name": "stdout",
     "output_type": "stream",
     "text": [
      "The misisng data columns are ==   \n",
      " Index(['STDNT_TEST_ENTRANCE1', 'STDNT_TEST_ENTRANCE2',\n",
      "       'STDNT_TEST_ENTRANCE_COMB', 'CORE_COURSE_NAME_2_F',\n",
      "       'CORE_COURSE_GRADE_2_F', 'CORE_COURSE_NAME_3_F',\n",
      "       'CORE_COURSE_GRADE_3_F', 'CORE_COURSE_NAME_4_F',\n",
      "       'CORE_COURSE_GRADE_4_F', 'CORE_COURSE_NAME_5_F',\n",
      "       'CORE_COURSE_GRADE_5_F', 'CORE_COURSE_NAME_6_F',\n",
      "       'CORE_COURSE_GRADE_6_F', 'CORE_COURSE_NAME_1_S',\n",
      "       'CORE_COURSE_GRADE_1_S', 'CORE_COURSE_NAME_2_S',\n",
      "       'CORE_COURSE_GRADE_2_S', 'CORE_COURSE_NAME_3_S',\n",
      "       'CORE_COURSE_GRADE_3_S', 'CORE_COURSE_NAME_4_S',\n",
      "       'CORE_COURSE_GRADE_4_S', 'CORE_COURSE_NAME_5_S',\n",
      "       'CORE_COURSE_GRADE_5_S', 'CORE_COURSE_NAME_6_S',\n",
      "       'CORE_COURSE_GRADE_6_S', 'DISTANCE_FROM_HOME', 'HIGH_SCHL_GPA',\n",
      "       'HIGH_SCHL_NAME', 'FATHER_HI_EDU_CD', 'MOTHER_HI_EDU_CD',\n",
      "       'SECOND_TERM_ATTEMPT_HRS', 'SECOND_TERM_EARNED_HRS'],\n",
      "      dtype='object')\n"
     ]
    },
    {
     "data": {
      "text/plain": [
       "(3400, 26)"
      ]
     },
     "execution_count": 11,
     "metadata": {},
     "output_type": "execute_result"
    }
   ],
   "source": [
    "# fill misisng course names course name with particular count of course\n",
    "\n",
    "print(\"The misisng data columns are ==  \",\"\\n\",student_dataSet.columns[student_dataSet.isnull().any()])\n",
    "\n",
    "                                                  \n",
    "\n",
    "# #dropped columns student entrance 1 and entrance 2 as we have STDNT_TEST_ENTRANCE COMBINED \n",
    "student_dataSet.drop([\"STDNT_TEST_ENTRANCE1\",\"STDNT_TEST_ENTRANCE2\"],axis=1,inplace=True) \n",
    "\n",
    "\n",
    "\n",
    "# #dropping HIGH_SCHL_NAME, FATHER_HI_EDU_CD, MOTHER_HI_EDU_CD\n",
    "\n",
    "student_dataSet.drop(['HIGH_SCHL_NAME', 'FATHER_HI_EDU_CD', 'MOTHER_HI_EDU_CD'], axis=1,inplace=True)\n",
    "\n",
    "\n",
    "#dropping all grades\n",
    "\n",
    "student_dataSet.drop(['CORE_COURSE_GRADE_1_F', 'CORE_COURSE_GRADE_2_F', 'CORE_COURSE_GRADE_3_F',\n",
    "                                           'CORE_COURSE_GRADE_4_F','CORE_COURSE_GRADE_5_F','CORE_COURSE_GRADE_6_F'],axis=1,inplace=True)\n",
    "\n",
    "student_dataSet.drop(['CORE_COURSE_GRADE_1_S', 'CORE_COURSE_GRADE_2_S', 'CORE_COURSE_GRADE_3_S',\n",
    "                                           'CORE_COURSE_GRADE_4_S','CORE_COURSE_GRADE_5_S','CORE_COURSE_GRADE_6_S'],axis=1,inplace=True)\n",
    "\n",
    "\n",
    "\n",
    "#Replace high school grade null values with mean\n",
    "student_dataSet['HIGH_SCHL_GPA'].fillna(student_dataSet['HIGH_SCHL_GPA'].mean(),inplace=True)\n",
    "\n",
    "#Replace DISTANCE_FROM_HOME null values with mean\n",
    "student_dataSet['DISTANCE_FROM_HOME'].fillna(student_dataSet['DISTANCE_FROM_HOME'].mean(),inplace=True)\n",
    "\n",
    "\n",
    "#Replace STDNT_TEST_ENTRANCE_COMB null values with mean\n",
    "student_dataSet['STDNT_TEST_ENTRANCE_COMB'].fillna(student_dataSet['STDNT_TEST_ENTRANCE_COMB'].mean(),inplace=True)\n",
    "\n",
    "\n",
    "#We can remove all the subject names and keep number of subjects each student attended\n",
    "#we can change the feature as 1 if there is a subject else 0\n",
    "\n",
    "# #list of course feature name taken by each student in first term\n",
    "course_1 = ['CORE_COURSE_NAME_1_F',  'CORE_COURSE_NAME_2_F', 'CORE_COURSE_NAME_3_F', 'CORE_COURSE_NAME_4_F',\n",
    "      'CORE_COURSE_NAME_5_F', 'CORE_COURSE_NAME_6_F']\n",
    "\n",
    "for feat in course_1:\n",
    "    student_dataSet[feat] = student_dataSet_old[feat].fillna(0).apply(lambda x: 0 if x==0 else 1)\n",
    "\n",
    "\n",
    "# #list of course feature name taken by each student in first term\n",
    "course_1 = ['CORE_COURSE_NAME_1_F',  'CORE_COURSE_NAME_2_F', 'CORE_COURSE_NAME_3_F', 'CORE_COURSE_NAME_4_F',\n",
    "       'CORE_COURSE_NAME_5_F', 'CORE_COURSE_NAME_6_F']\n",
    "\n",
    "for feat in course_1:\n",
    "     student_dataSet[feat] = student_dataSet_old[feat].fillna(0).apply(lambda x: 0 if x==0 else 1)\n",
    "\n",
    "\n",
    "# #list of course feature name taken by each student in second term\n",
    "course_2 = ['CORE_COURSE_NAME_1_S',  'CORE_COURSE_NAME_2_S', 'CORE_COURSE_NAME_3_S', 'CORE_COURSE_NAME_4_S',\n",
    "       'CORE_COURSE_NAME_5_S', 'CORE_COURSE_NAME_6_S']\n",
    "\n",
    "for feat in course_2:\n",
    "     student_dataSet[feat] = student_dataSet_old[feat].fillna(0).apply(lambda x: 0 if x==0 else 1)\n",
    "    \n",
    "\n",
    "\n",
    "# #create number of subjects column for first term\n",
    "student_dataSet['NO_OF_SUB_FIRST_TERM'] = student_dataSet[['CORE_COURSE_NAME_1_F',  'CORE_COURSE_NAME_2_F', 'CORE_COURSE_NAME_3_F', 'CORE_COURSE_NAME_4_F',\n",
    "       'CORE_COURSE_NAME_5_F', 'CORE_COURSE_NAME_6_F']].sum(axis=1)\n",
    "\n",
    "# #drop first term courses\n",
    "student_dataSet.drop(course_1, axis=1, inplace=True)\n",
    "\n",
    "# #create number of subjects column for Second term\n",
    "student_dataSet['NO_OF_SUB_SECOND_TERM'] = student_dataSet[['CORE_COURSE_NAME_1_S',  'CORE_COURSE_NAME_2_S', 'CORE_COURSE_NAME_3_S', 'CORE_COURSE_NAME_4_S',\n",
    "       'CORE_COURSE_NAME_5_S', 'CORE_COURSE_NAME_6_S']].sum(axis=1)\n",
    "\n",
    "# #drop first term courses\n",
    "student_dataSet.drop(course_2, axis=1, inplace=True)\n",
    "\n",
    "\n",
    "# DEGREE_GROUP_CD  and  DEGREE_GROUP_DESC are same, we can drop anyone\n",
    "student_dataSet.drop('DEGREE_GROUP_CD', axis=1, inplace=True)\n",
    "\n",
    "\n",
    "# #create first term backlog hours from earned and attempt hours and remove earned hours\n",
    "student_dataSet['FIRST_TERM_BACKLOG_HRS']  = (student_dataSet['FIRST_TERM_ATTEMPT_HRS'] - student_dataSet['FIRST_TERM_EARNED_HRS'])\n",
    "student_dataSet.drop('FIRST_TERM_EARNED_HRS', axis=1, inplace=True)\n",
    "student_dataSet['FIRST_TERM_BACKLOG_HRS'] = student_dataSet['FIRST_TERM_BACKLOG_HRS'].apply(lambda x : 0 if x<0 else x)\n",
    "\n",
    "# # fill 0 in second term earned and attempt hours, might be they left the course after first term\n",
    "student_dataSet['SECOND_TERM_ATTEMPT_HRS'].fillna(0,inplace=True)\n",
    "student_dataSet['SECOND_TERM_EARNED_HRS'].fillna(0,inplace=True)\n",
    "\n",
    "# #create second term backlog hours from earned and attempt hours and remove earned hours\n",
    "student_dataSet['SECOND_TERM_BACKLOG_HRS']  = (student_dataSet['SECOND_TERM_ATTEMPT_HRS'] - student_dataSet['SECOND_TERM_EARNED_HRS'])\n",
    "student_dataSet.drop('SECOND_TERM_EARNED_HRS', axis=1, inplace=True)\n",
    "student_dataSet['SECOND_TERM_BACKLOG_HRS'] = student_dataSet['SECOND_TERM_BACKLOG_HRS'].apply(lambda x : 0 if x<0 else x)\n",
    "\n",
    "\n",
    "#we can drop GROSS_FIN_NEED, becuase we have one more column called unmet need\n",
    "student_dataSet.drop('GROSS_FIN_NEED',axis=1, inplace=True)\n",
    "\n",
    "#update negative values of Un met need to 0\n",
    "student_dataSet['UNMET_NEED'] = student_dataSet['UNMET_NEED'].apply(lambda x: 0 if x<0 else x)\n",
    "\n",
    "#change name of target variable RETURNED SECOND YEAR to ATTRITION\n",
    "student_dataSet['ATTRITION'] = student_dataSet['RETURNED_2ND_YR']\n",
    "#drop RETURNED_2ND_YR column\n",
    "student_dataSet.drop('RETURNED_2ND_YR',axis=1,inplace=True)\n",
    "\n",
    "\n",
    "#drop STDNT_minor column - since 3160 out of 3400 doesnt have minor subject\n",
    "student_dataSet['STDNT_MINOR'].value_counts()\n",
    "student_dataSet.drop('STDNT_MINOR',axis=1,inplace=True)\n",
    "\n",
    "\n",
    "student_dataSet.shape\n",
    "\n"
   ]
  },
  {
   "cell_type": "markdown",
   "id": "06fdebf8",
   "metadata": {
    "id": "06fdebf8"
   },
   "source": [
    "\n",
    "## 3.2 Apply techiniques\n",
    "* to remove duplicate data\n",
    "* to impute or remove missing data\n",
    "* to remove data inconsistencies\n"
   ]
  },
  {
   "cell_type": "code",
   "execution_count": 12,
   "id": "dd3118eb",
   "metadata": {
    "id": "dd3118eb"
   },
   "outputs": [
    {
     "name": "stdout",
     "output_type": "stream",
     "text": [
      "Index(['STUDENT IDENTIFIER', 'STDNT_AGE', 'STDNT_GENDER', 'STDNT_BACKGROUND',\n",
      "       'IN_STATE_FLAG', 'INTERNATIONAL_STS', 'STDNT_MAJOR',\n",
      "       'STDNT_TEST_ENTRANCE_COMB', 'FIRST_TERM', 'SECOND_TERM', 'HOUSING_STS',\n",
      "       'DISTANCE_FROM_HOME', 'HIGH_SCHL_GPA', 'FATHER_HI_EDU_DESC',\n",
      "       'MOTHER_HI_EDU_DESC', 'DEGREE_GROUP_DESC', 'FIRST_TERM_ATTEMPT_HRS',\n",
      "       'SECOND_TERM_ATTEMPT_HRS', 'COST_OF_ATTEND', 'EST_FAM_CONTRIBUTION',\n",
      "       'UNMET_NEED', 'NO_OF_SUB_FIRST_TERM', 'NO_OF_SUB_SECOND_TERM',\n",
      "       'FIRST_TERM_BACKLOG_HRS', 'SECOND_TERM_BACKLOG_HRS', 'ATTRITION'],\n",
      "      dtype='object')\n"
     ]
    }
   ],
   "source": [
    "##---------Type the code below this line------------------##\n",
    "\n",
    "\n",
    "print(student_dataSet.columns)\n",
    "\n"
   ]
  },
  {
   "cell_type": "markdown",
   "id": "2139fedf",
   "metadata": {
    "id": "2139fedf"
   },
   "source": [
    "## 3.3 Encode categorical data"
   ]
  },
  {
   "cell_type": "code",
   "execution_count": 13,
   "id": "fc353d79",
   "metadata": {},
   "outputs": [
    {
     "data": {
      "text/plain": [
       "['STDNT_GENDER',\n",
       " 'STDNT_BACKGROUND',\n",
       " 'IN_STATE_FLAG',\n",
       " 'INTERNATIONAL_STS',\n",
       " 'STDNT_MAJOR',\n",
       " 'HOUSING_STS',\n",
       " 'FATHER_HI_EDU_DESC',\n",
       " 'MOTHER_HI_EDU_DESC',\n",
       " 'DEGREE_GROUP_DESC']"
      ]
     },
     "execution_count": 13,
     "metadata": {},
     "output_type": "execute_result"
    }
   ],
   "source": [
    "cat_list = list(student_dataSet.select_dtypes(exclude='number').columns)\n",
    "#cat_list =cat_list.to_list()\n",
    "cat_list"
   ]
  },
  {
   "cell_type": "code",
   "execution_count": 14,
   "id": "28e73341",
   "metadata": {},
   "outputs": [],
   "source": [
    "student_dataSet_f = pd.get_dummies(student_dataSet, columns=cat_list, drop_first=True)"
   ]
  },
  {
   "cell_type": "code",
   "execution_count": 15,
   "id": "da6886fc",
   "metadata": {
    "id": "da6886fc"
   },
   "outputs": [
    {
     "data": {
      "text/plain": [
       "(3400, 91)"
      ]
     },
     "execution_count": 15,
     "metadata": {},
     "output_type": "execute_result"
    }
   ],
   "source": [
    "student_dataSet_f.shape"
   ]
  },
  {
   "cell_type": "markdown",
   "id": "ae5a2917",
   "metadata": {
    "id": "ae5a2917"
   },
   "source": [
    "## 3.4 Text data\n",
    "\n",
    "1. Remove special characters\n",
    "2. Change the case (up-casing and down-casing).\n",
    "3. Tokenization — process of discretizing words within a document.\n",
    "4. Filter Stop Words."
   ]
  },
  {
   "cell_type": "code",
   "execution_count": 275,
   "id": "c86d5b0b",
   "metadata": {
    "id": "c86d5b0b"
   },
   "outputs": [],
   "source": [
    "##---------Type the code below this line------------------##"
   ]
  },
  {
   "cell_type": "code",
   "execution_count": 13,
   "id": "a3b2cdee",
   "metadata": {
    "id": "a3b2cdee"
   },
   "outputs": [],
   "source": [
    "##---------Type the code below this line------------------##"
   ]
  },
  {
   "cell_type": "markdown",
   "id": "e3cec4fc",
   "metadata": {
    "id": "e3cec4fc"
   },
   "source": [
    "## 3.4 Report\n",
    "\n",
    "Mention and justify the method adopted \n",
    "* to remove duplicate data, if present \n",
    "* to impute or remove missing data, if present \n",
    "* to remove data inconsistencies, if present \n",
    "\n",
    "OR for textdata\n",
    "* How many tokens after step 3?\n",
    "* how may tokens after stop words filtering?\n",
    "\n",
    "If the any of the above are not present, then also add in the report below.\n",
    "\n",
    "Score: 2 Marks (based on the dataset you have, the data prepreation you had to do and report typed, marks will be distributed between 3.1, 3.2, 3.3 and 3.4)"
   ]
  },
  {
   "cell_type": "code",
   "execution_count": 14,
   "id": "3ab84ce6",
   "metadata": {
    "id": "3ab84ce6"
   },
   "outputs": [],
   "source": [
    "##---------Type the code below this line------------------##"
   ]
  },
  {
   "cell_type": "code",
   "execution_count": 15,
   "id": "f0fea7e8",
   "metadata": {
    "id": "f0fea7e8"
   },
   "outputs": [],
   "source": [
    "##---------Type the code below this line------------------##"
   ]
  },
  {
   "cell_type": "markdown",
   "id": "793cd04b",
   "metadata": {
    "id": "793cd04b"
   },
   "source": [
    "## 3.5 Identify the target variables.\n",
    "\n",
    "* Separate the data from the target such that the dataset is in the form of (X,y) or (Features, Label)\n",
    "\n",
    "* Discretize / Encode the target variable or perform one-hot encoding on the target or any other as and if required.\n",
    "\n",
    "* Report the observations\n",
    "\n",
    "Score: 1 Mark"
   ]
  },
  {
   "cell_type": "code",
   "execution_count": 16,
   "id": "c9089b57",
   "metadata": {
    "id": "c9089b57"
   },
   "outputs": [],
   "source": [
    "##---------Type the code below this line------------------##\n",
    "# y is the target variable , X is all other data set\n",
    "\n",
    "y = student_dataSet['ATTRITION']\n",
    "X = student_dataSet_f.drop('ATTRITION',inplace=True,axis=1)\n",
    "\n",
    "\n",
    "#Encoding not required for target"
   ]
  },
  {
   "cell_type": "markdown",
   "id": "3ae0b5d2",
   "metadata": {
    "id": "3ae0b5d2"
   },
   "source": [
    "# 4. Data Exploration using various plots\n",
    "\n"
   ]
  },
  {
   "cell_type": "markdown",
   "id": "186bf4d7",
   "metadata": {
    "id": "186bf4d7"
   },
   "source": [
    "## 4.1 Scatter plot of each quantitative attribute with the target.\n",
    "\n",
    "Score: 1 Mark"
   ]
  },
  {
   "cell_type": "code",
   "execution_count": 18,
   "id": "868d7b27",
   "metadata": {
    "id": "868d7b27",
    "scrolled": true
   },
   "outputs": [
    {
     "data": {
      "text/plain": [
       "['STUDENT IDENTIFIER',\n",
       " 'STDNT_AGE',\n",
       " 'STDNT_TEST_ENTRANCE_COMB',\n",
       " 'FIRST_TERM',\n",
       " 'SECOND_TERM',\n",
       " 'DISTANCE_FROM_HOME',\n",
       " 'HIGH_SCHL_GPA',\n",
       " 'FIRST_TERM_ATTEMPT_HRS',\n",
       " 'SECOND_TERM_ATTEMPT_HRS',\n",
       " 'COST_OF_ATTEND',\n",
       " 'EST_FAM_CONTRIBUTION',\n",
       " 'UNMET_NEED',\n",
       " 'NO_OF_SUB_FIRST_TERM',\n",
       " 'NO_OF_SUB_SECOND_TERM',\n",
       " 'FIRST_TERM_BACKLOG_HRS',\n",
       " 'SECOND_TERM_BACKLOG_HRS',\n",
       " 'STDNT_GENDER_M',\n",
       " 'STDNT_BACKGROUND_BGD 2',\n",
       " 'STDNT_BACKGROUND_BGD 3',\n",
       " 'STDNT_BACKGROUND_BGD 4',\n",
       " 'STDNT_BACKGROUND_BGD 5',\n",
       " 'STDNT_BACKGROUND_BGD 6',\n",
       " 'STDNT_BACKGROUND_BGD 7',\n",
       " 'STDNT_BACKGROUND_BGD 8',\n",
       " 'IN_STATE_FLAG_Y',\n",
       " 'INTERNATIONAL_STS_Y',\n",
       " 'STDNT_MAJOR_Applied Computer Science',\n",
       " 'STDNT_MAJOR_Art',\n",
       " 'STDNT_MAJOR_Art Education',\n",
       " 'STDNT_MAJOR_Biology',\n",
       " 'STDNT_MAJOR_Biology and Secondary Ed',\n",
       " 'STDNT_MAJOR_Chemistry',\n",
       " 'STDNT_MAJOR_Chemistry and Secondary Ed',\n",
       " 'STDNT_MAJOR_Communication',\n",
       " 'STDNT_MAJOR_Computer Science - Games',\n",
       " 'STDNT_MAJOR_Computer Science - Systems',\n",
       " 'STDNT_MAJOR_Criminal Justice',\n",
       " 'STDNT_MAJOR_Early Admission - Accel',\n",
       " 'STDNT_MAJOR_Early Childhood Education',\n",
       " 'STDNT_MAJOR_Earth and Space Science',\n",
       " 'STDNT_MAJOR_Engineering Studies',\n",
       " 'STDNT_MAJOR_English Language/Literature',\n",
       " 'STDNT_MAJOR_English and Secondary Ed',\n",
       " 'STDNT_MAJOR_Exercise Science',\n",
       " 'STDNT_MAJOR_Finance',\n",
       " 'STDNT_MAJOR_French',\n",
       " 'STDNT_MAJOR_French with Teacher Cert',\n",
       " 'STDNT_MAJOR_General Business',\n",
       " 'STDNT_MAJOR_General Studies/AS',\n",
       " 'STDNT_MAJOR_Geology',\n",
       " 'STDNT_MAJOR_Health Science',\n",
       " 'STDNT_MAJOR_Health and Physical Education',\n",
       " 'STDNT_MAJOR_History',\n",
       " 'STDNT_MAJOR_History and Secondary Ed',\n",
       " 'STDNT_MAJOR_Information Technology',\n",
       " 'STDNT_MAJOR_Joint Enrollment - Accel',\n",
       " 'STDNT_MAJOR_Liberal Arts',\n",
       " 'STDNT_MAJOR_Management',\n",
       " 'STDNT_MAJOR_Management Information Systems',\n",
       " 'STDNT_MAJOR_Marketing',\n",
       " 'STDNT_MAJOR_Mathematics',\n",
       " 'STDNT_MAJOR_Mathematics and Secondary Ed',\n",
       " 'STDNT_MAJOR_Middle Grades Education',\n",
       " 'STDNT_MAJOR_Music',\n",
       " 'STDNT_MAJOR_Music Education',\n",
       " 'STDNT_MAJOR_Music Performance',\n",
       " 'STDNT_MAJOR_Nursing',\n",
       " 'STDNT_MAJOR_Political Science',\n",
       " 'STDNT_MAJOR_Pre-Business',\n",
       " 'STDNT_MAJOR_Pre-Engineering/RETP',\n",
       " 'STDNT_MAJOR_Pre-Nursing',\n",
       " 'STDNT_MAJOR_Psychology',\n",
       " 'STDNT_MAJOR_Sociology',\n",
       " 'STDNT_MAJOR_Spanish',\n",
       " 'STDNT_MAJOR_Spanish with Teacher Cert',\n",
       " 'STDNT_MAJOR_Spec Ed: Gen. Curr. - Reading',\n",
       " 'STDNT_MAJOR_Theatre Arts',\n",
       " 'STDNT_MAJOR_Theatre Education',\n",
       " 'STDNT_MAJOR_Undeclared',\n",
       " 'HOUSING_STS_On Campus',\n",
       " 'FATHER_HI_EDU_DESC_High School',\n",
       " 'FATHER_HI_EDU_DESC_Middle School/Junior High',\n",
       " 'FATHER_HI_EDU_DESC_No Information',\n",
       " 'FATHER_HI_EDU_DESC_Other/Unknown',\n",
       " 'MOTHER_HI_EDU_DESC_High School',\n",
       " 'MOTHER_HI_EDU_DESC_Middle School/Junior High',\n",
       " 'MOTHER_HI_EDU_DESC_No Information',\n",
       " 'MOTHER_HI_EDU_DESC_Other/Unknown',\n",
       " 'DEGREE_GROUP_DESC_Bachelors',\n",
       " 'DEGREE_GROUP_DESC_Career Associate']"
      ]
     },
     "execution_count": 18,
     "metadata": {},
     "output_type": "execute_result"
    }
   ],
   "source": [
    "##---------Type the code below this line------------------##\n",
    "#student_dataSet_f.info()\n",
    "numeric_List = list(student_dataSet_f.columns)\n",
    "numeric_List\n",
    "\n",
    "#scatter plot of attrition\n",
    "#sns.relplot(x_axis=student_dataSet_f[\"STDNT_AGE\"], y_axis= y);\n"
   ]
  },
  {
   "cell_type": "markdown",
   "id": "575f9e37",
   "metadata": {
    "id": "575f9e37"
   },
   "source": [
    "## 4.2 EDA using visuals\n",
    "* Use (minimum) 2 plots (pair plot, heat map, correlation plot, regression plot...) to identify the optimal set of attributes that can be used for classification. \n",
    "* Name them, explain why you think they can be helpful in the task and perform the plot as well. Unless proper justification for the choice of plots given, no credit will be awarded.\n",
    "\n",
    "Score: 2 Marks"
   ]
  },
  {
   "cell_type": "code",
   "execution_count": 18,
   "id": "4d614311",
   "metadata": {
    "id": "4d614311"
   },
   "outputs": [],
   "source": [
    "##---------Type the code below this line------------------##"
   ]
  },
  {
   "cell_type": "markdown",
   "id": "bdbc82a1",
   "metadata": {
    "id": "bdbc82a1"
   },
   "source": [
    "# 5. Data Wrangling\n",
    "\n"
   ]
  },
  {
   "cell_type": "markdown",
   "id": "ca214eb3",
   "metadata": {
    "id": "ca214eb3"
   },
   "source": [
    "## 5.1 Univariate Filters \n",
    "\n",
    "#### Numerical and Categorical Data\n",
    "* Identify top 5 significant features by evaluating each feature independently with respect to the target variable by exploring \n",
    "1. Mutual Information (Information Gain)\n",
    "2. Gini index\n",
    "3. Gain Ratio\n",
    "4. Chi-Squared test\n",
    "5. Fisher Score\n",
    "(From the above 5 you are required to use only any <b>two</b>) \n",
    "\n",
    "#### For Text data\n",
    "\n",
    "1. Stemming / Lemmatization.\n",
    "2. Forming n-grams and storing them in the document vector.\n",
    "3. TF-IDF\n",
    "(From the above 2 you are required to use only any <b>two</b>)\n",
    "\n",
    "\n",
    "Score: 3 Marks"
   ]
  },
  {
   "cell_type": "code",
   "execution_count": 19,
   "id": "a85e9754",
   "metadata": {
    "id": "a85e9754"
   },
   "outputs": [],
   "source": [
    "##---------Type the code below this line------------------##"
   ]
  },
  {
   "cell_type": "markdown",
   "id": "38031f24",
   "metadata": {
    "id": "38031f24"
   },
   "source": [
    "## 5.2 Report observations\n",
    "\n",
    "Write your observations from the results of each method. Clearly justify your choice of the method.\n",
    "\n",
    "Score 1 mark"
   ]
  },
  {
   "cell_type": "code",
   "execution_count": 20,
   "id": "85c7a3a8",
   "metadata": {
    "id": "85c7a3a8"
   },
   "outputs": [],
   "source": [
    "##---------Type the code below this line------------------##"
   ]
  },
  {
   "cell_type": "markdown",
   "id": "06f1173c",
   "metadata": {
    "id": "06f1173c"
   },
   "source": [
    "# 6. Implement Machine Learning Techniques\n",
    "\n",
    "Use any 2 ML algorithms\n",
    "1. Classification -- Decision Tree classifier \n",
    "\n",
    "2. Clustering -- kmeans\n",
    "\n",
    "3. Association Analysis\n",
    "\n",
    "4. Anomaly detection\n",
    "\n",
    "5. Textual data -- Naive Bayes classifier (not taught in this course)\n",
    "\n",
    "A clear justification have to be given for why a certain algorithm was chosen to address your problem.\n",
    "\n",
    "Score: 4 Marks (2 marks each for each algorithm)"
   ]
  },
  {
   "cell_type": "markdown",
   "id": "040afed8",
   "metadata": {
    "id": "040afed8"
   },
   "source": [
    "## 6.1 ML technique 1 + Justification"
   ]
  },
  {
   "cell_type": "code",
   "execution_count": 21,
   "id": "7042235d",
   "metadata": {
    "id": "7042235d"
   },
   "outputs": [],
   "source": [
    "##---------Type the code below this line------------------##\n"
   ]
  },
  {
   "cell_type": "markdown",
   "id": "f610ca8c",
   "metadata": {
    "id": "f610ca8c"
   },
   "source": [
    "## 6.2 ML technique 2 + Justification"
   ]
  },
  {
   "cell_type": "code",
   "execution_count": 22,
   "id": "9b75e079",
   "metadata": {
    "id": "9b75e079"
   },
   "outputs": [],
   "source": [
    "##---------Type the code below this line------------------##"
   ]
  },
  {
   "cell_type": "markdown",
   "id": "eb57940c",
   "metadata": {
    "id": "eb57940c"
   },
   "source": [
    "## 7. Conclusion \n",
    "\n",
    "Compare the performance of the ML techniques used.\n",
    "\n",
    "Derive values for preformance study metrics like accuracy, precision, recall, F1 Score, AUC-ROC etc to compare the ML algos and plot them. A proper comparision based on different metrics should be done and not just accuracy alone, only then the comparision becomes authentic. You may use Confusion matrix, classification report, Word cloud etc as per the requirement of your application/problem.\n",
    "\n",
    "Score 1 Mark"
   ]
  },
  {
   "cell_type": "code",
   "execution_count": 23,
   "id": "9bf06eb1",
   "metadata": {
    "id": "9bf06eb1"
   },
   "outputs": [],
   "source": [
    "##---------Type the code below this line------------------##"
   ]
  },
  {
   "cell_type": "markdown",
   "id": "79ed0137",
   "metadata": {
    "id": "79ed0137"
   },
   "source": [
    "## 8. Solution\n",
    "\n",
    "What is the solution that is proposed to solve the business problem discussed in Section 1. Also share your learnings while working through solving the problem in terms of challenges, observations, decisions made etc.\n",
    "\n",
    "Score 2 Marks"
   ]
  },
  {
   "cell_type": "markdown",
   "id": "324448eb",
   "metadata": {
    "id": "324448eb"
   },
   "source": [
    "--------------Type the answers below this line--------------"
   ]
  },
  {
   "cell_type": "raw",
   "id": "68ab61d5",
   "metadata": {
    "id": "68ab61d5"
   },
   "source": [
    "##---------Type the answer below this line------------------##"
   ]
  },
  {
   "cell_type": "markdown",
   "id": "RcDDQlfbZQ7E",
   "metadata": {
    "id": "RcDDQlfbZQ7E"
   },
   "source": [
    "##NOTE\n",
    "All Late Submissions will incur a penalty of -2 marks. Do ensure on time submission to avoid penalty.\n",
    "\n",
    "Good Luck!!!"
   ]
  }
 ],
 "metadata": {
  "colab": {
   "provenance": []
  },
  "kernelspec": {
   "display_name": "Python 3 (ipykernel)",
   "language": "python",
   "name": "python3"
  },
  "language_info": {
   "codemirror_mode": {
    "name": "ipython",
    "version": 3
   },
   "file_extension": ".py",
   "mimetype": "text/x-python",
   "name": "python",
   "nbconvert_exporter": "python",
   "pygments_lexer": "ipython3",
   "version": "3.9.12"
  }
 },
 "nbformat": 4,
 "nbformat_minor": 5
}
